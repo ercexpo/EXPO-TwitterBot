{
 "cells": [
  {
   "cell_type": "code",
   "execution_count": 1,
   "metadata": {},
   "outputs": [],
   "source": [
    "# import requests\n"
   ]
  },
  {
   "cell_type": "code",
   "execution_count": 5,
   "metadata": {},
   "outputs": [],
   "source": [
    "# api='VMETW3kzNJSRF21QiP7Dqtrgm'\n",
    "# apisecret='y'\n"
   ]
  },
  {
   "cell_type": "code",
   "execution_count": 6,
   "metadata": {},
   "outputs": [],
   "source": [
    "# request_token_url = 'https://api.twitter.com/oauth/request_token'\n",
    "# access_token_url = 'https://api.twitter.com/oauth/access_token'\n",
    "# authenticate_url = 'https://api.twitter.com/oauth/authenticate'"
   ]
  },
  {
   "cell_type": "code",
   "execution_count": 12,
   "metadata": {},
   "outputs": [
    {
     "name": "stdout",
     "output_type": "stream",
     "text": [
      "https://api.twitter.com/oauth/request_token?oauth_consumer_key=VMETW3kzNJSRF21QiP7Dqtrgm&oauth_callback=oob\n"
     ]
    }
   ],
   "source": [
    "# request_token_url = 'https://api.twitter.com/oauth/request_token?oauth_consumer_key=%s&oauth_callback=oob' % api\n",
    "# print(request_token_url)"
   ]
  },
  {
   "cell_type": "code",
   "execution_count": 19,
   "metadata": {},
   "outputs": [],
   "source": [
    "# r = requests.post(request_token_url)"
   ]
  },
  {
   "cell_type": "code",
   "execution_count": 21,
   "metadata": {},
   "outputs": [
    {
     "name": "stdout",
     "output_type": "stream",
     "text": [
      "{'errors': [{'code': 215, 'message': 'Bad Authentication data.'}]}\n"
     ]
    }
   ],
   "source": [
    "# print(r.json())"
   ]
  },
  {
   "cell_type": "code",
   "execution_count": 9,
   "metadata": {},
   "outputs": [],
   "source": [
    "import tweepy\n",
    "\n",
    "oauth1_user_handler = tweepy.OAuth1UserHandler(\n",
    "    \"LYWvuZDvWbTJrYXlGWJrhzbtr\", \"HPfJzOjzNFxEERDwRXiYGelWx6Bk4JAWSFcNATt5ZZB82USDo7\",\n",
    "    callback=\"oob\"\n",
    ")"
   ]
  },
  {
   "cell_type": "code",
   "execution_count": 10,
   "metadata": {},
   "outputs": [
    {
     "name": "stdout",
     "output_type": "stream",
     "text": [
      "https://api.twitter.com/oauth/authorize?oauth_token=n9PeMwAAAAABdzWRAAABgcMm6X8\n"
     ]
    }
   ],
   "source": [
    "authorize=oauth1_user_handler.get_authorization_url()\n",
    "authenticate=authorize.replace('authorize', 'authenticate')\n",
    "print(authenticate)"
   ]
  },
  {
   "cell_type": "code",
   "execution_count": 12,
   "metadata": {},
   "outputs": [
    {
     "name": "stdout",
     "output_type": "stream",
     "text": [
      "https://api.twitter.com/oauth/authenticate?oauth_token=n9PeMwAAAAABdzWRAAABgcMm6X8\n"
     ]
    }
   ],
   "source": []
  },
  {
   "cell_type": "code",
   "execution_count": 13,
   "metadata": {},
   "outputs": [],
   "source": [
    "verifier = input(\"Input PIN: \")\n",
    "access_token, access_token_secret = oauth1_user_handler.get_access_token(\n",
    "    verifier\n",
    ")"
   ]
  },
  {
   "cell_type": "code",
   "execution_count": 14,
   "metadata": {},
   "outputs": [
    {
     "data": {
      "text/plain": [
       "'1532515837239693312-Ovql5KDoXF7v7rrjDe9QRsbTlqggFT'"
      ]
     },
     "execution_count": 14,
     "metadata": {},
     "output_type": "execute_result"
    }
   ],
   "source": [
    "access_token"
   ]
  },
  {
   "cell_type": "code",
   "execution_count": 15,
   "metadata": {},
   "outputs": [
    {
     "data": {
      "text/plain": [
       "'F8VZ1bl0V3PG8MWZltr8yCJMqxir54XqgaPxa7BHNzUvX'"
      ]
     },
     "execution_count": 15,
     "metadata": {},
     "output_type": "execute_result"
    }
   ],
   "source": [
    "access_token_secret\n"
   ]
  }
 ],
 "metadata": {
  "interpreter": {
   "hash": "c108efe8a0f90e2e56e0f9b96d26bacd2fba1e2bf832d748f50731922fabbb6a"
  },
  "kernelspec": {
   "display_name": "Python 3.9.7 ('Twitter')",
   "language": "python",
   "name": "python3"
  },
  "language_info": {
   "codemirror_mode": {
    "name": "ipython",
    "version": 3
   },
   "file_extension": ".py",
   "mimetype": "text/x-python",
   "name": "python",
   "nbconvert_exporter": "python",
   "pygments_lexer": "ipython3",
   "version": "3.9.13"
  },
  "orig_nbformat": 4
 },
 "nbformat": 4,
 "nbformat_minor": 2
}
