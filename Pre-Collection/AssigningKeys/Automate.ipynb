{
 "cells": [
  {
   "cell_type": "code",
   "execution_count": 2,
   "metadata": {},
   "outputs": [
    {
     "ename": "ModuleNotFoundError",
     "evalue": "No module named 'oauth2'",
     "output_type": "error",
     "traceback": [
      "\u001b[0;31m---------------------------------------------------------------------------\u001b[0m",
      "\u001b[0;31mModuleNotFoundError\u001b[0m                       Traceback (most recent call last)",
      "\u001b[1;32m/mnt/data0/haskari/TweetCollection/Final_Bot/Pre-Collection/AssigningKeys/Automate.ipynb Cell 1'\u001b[0m in \u001b[0;36m<cell line: 2>\u001b[0;34m()\u001b[0m\n\u001b[1;32m      <a href='vscode-notebook-cell://ssh-remote%2Bsohrab.idav.ucdavis.edu/mnt/data0/haskari/TweetCollection/Final_Bot/Pre-Collection/AssigningKeys/Automate.ipynb#ch0000000vscode-remote?line=0'>1</a>\u001b[0m \u001b[39mimport\u001b[39;00m \u001b[39mrequests\u001b[39;00m\n\u001b[0;32m----> <a href='vscode-notebook-cell://ssh-remote%2Bsohrab.idav.ucdavis.edu/mnt/data0/haskari/TweetCollection/Final_Bot/Pre-Collection/AssigningKeys/Automate.ipynb#ch0000000vscode-remote?line=1'>2</a>\u001b[0m \u001b[39mimport\u001b[39;00m \u001b[39moauth2\u001b[39;00m \u001b[39mas\u001b[39;00m \u001b[39moauth\u001b[39;00m\n",
      "\u001b[0;31mModuleNotFoundError\u001b[0m: No module named 'oauth2'"
     ]
    }
   ],
   "source": [
    "import requests\n"
   ]
  },
  {
   "cell_type": "code",
   "execution_count": 5,
   "metadata": {},
   "outputs": [],
   "source": [
    "api='VMETW3kzNJSRF21QiP7Dqtrgm'\n",
    "apisecret='y'\n"
   ]
  },
  {
   "cell_type": "code",
   "execution_count": 6,
   "metadata": {},
   "outputs": [],
   "source": [
    "request_token_url = 'https://api.twitter.com/oauth/request_token'\n",
    "access_token_url = 'https://api.twitter.com/oauth/access_token'\n",
    "authenticate_url = 'https://api.twitter.com/oauth/authenticate'"
   ]
  },
  {
   "cell_type": "code",
   "execution_count": 12,
   "metadata": {},
   "outputs": [
    {
     "name": "stdout",
     "output_type": "stream",
     "text": [
      "https://api.twitter.com/oauth/request_token?oauth_consumer_key=VMETW3kzNJSRF21QiP7Dqtrgm&oauth_callback=oob\n"
     ]
    }
   ],
   "source": [
    "request_token_url = 'https://api.twitter.com/oauth/request_token?oauth_consumer_key=%s&oauth_callback=oob' % api\n",
    "print(request_token_url)"
   ]
  },
  {
   "cell_type": "code",
   "execution_count": 19,
   "metadata": {},
   "outputs": [],
   "source": [
    "r = requests.post(request_token_url)"
   ]
  },
  {
   "cell_type": "code",
   "execution_count": 21,
   "metadata": {},
   "outputs": [
    {
     "name": "stdout",
     "output_type": "stream",
     "text": [
      "{'errors': [{'code': 215, 'message': 'Bad Authentication data.'}]}\n"
     ]
    }
   ],
   "source": [
    "print(r.json())"
   ]
  },
  {
   "cell_type": "code",
   "execution_count": 28,
   "metadata": {},
   "outputs": [],
   "source": [
    "import tweepy\n",
    "\n",
    "oauth1_user_handler = tweepy.OAuth1UserHandler(\n",
    "    \"VMETW3kzNJSRF21QiP7Dqtrgm\", \"540ZIPCw5A3BHcNZg67LVije6LKDh7m3lphlzgtGtwyOClXvcN\",\n",
    "    callback=\"oob\"\n",
    ")"
   ]
  },
  {
   "cell_type": "code",
   "execution_count": 29,
   "metadata": {},
   "outputs": [],
   "source": [
    "\n",
    "authorize=oauth1_user_handler.get_authorization_url()\n",
    "print(authorize)"
   ]
  },
  {
   "cell_type": "code",
   "execution_count": 30,
   "metadata": {},
   "outputs": [
    {
     "name": "stdout",
     "output_type": "stream",
     "text": [
      "https://api.twitter.com/oauth/authorize?oauth_token=alg9AAAAAAABbgzAAAABgWXhKGM\n"
     ]
    }
   ],
   "source": [
    "print(authorize)\n"
   ]
  },
  {
   "cell_type": "code",
   "execution_count": 32,
   "metadata": {},
   "outputs": [
    {
     "name": "stdout",
     "output_type": "stream",
     "text": [
      "https://api.twitter.com/oauth/authenticate?oauth_token=alg9AAAAAAABbgzAAAABgWXhKGM\n"
     ]
    }
   ],
   "source": [
    "authenticate=authorize.replace('authorize', 'authenticate')\n",
    "print(authenticate)"
   ]
  },
  {
   "cell_type": "code",
   "execution_count": null,
   "metadata": {},
   "outputs": [],
   "source": [
    "verifier = input(\"Input PIN: \")\n",
    "access_token, access_token_secret = oauth1_user_handler.get_access_token(\n",
    "    verifier\n",
    ")"
   ]
  }
 ],
 "metadata": {
  "interpreter": {
   "hash": "c108efe8a0f90e2e56e0f9b96d26bacd2fba1e2bf832d748f50731922fabbb6a"
  },
  "kernelspec": {
   "display_name": "Python 3.9.7 ('Twitter')",
   "language": "python",
   "name": "python3"
  },
  "language_info": {
   "codemirror_mode": {
    "name": "ipython",
    "version": 3
   },
   "file_extension": ".py",
   "mimetype": "text/x-python",
   "name": "python",
   "nbconvert_exporter": "python",
   "pygments_lexer": "ipython3",
   "version": "3.9.13"
  },
  "orig_nbformat": 4
 },
 "nbformat": 4,
 "nbformat_minor": 2
}
