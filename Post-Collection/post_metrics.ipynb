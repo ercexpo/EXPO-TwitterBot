{
 "cells": [
  {
   "cell_type": "code",
   "execution_count": 3,
   "metadata": {},
   "outputs": [
    {
     "name": "stderr",
     "output_type": "stream",
     "text": [
      "/home/haskari/.conda/envs/Twitter/lib/python3.9/site-packages/tqdm/auto.py:22: TqdmWarning: IProgress not found. Please update jupyter and ipywidgets. See https://ipywidgets.readthedocs.io/en/stable/user_install.html\n",
      "  from .autonotebook import tqdm as notebook_tqdm\n"
     ]
    }
   ],
   "source": [
    "from math import ceil\n",
    "import tweepy as tw\n",
    "import pandas as pd\n",
    "from threading import Thread\n",
    "from tqdm.auto import tqdm\n",
    "import os\n",
    "import json\n",
    "from datetime import datetime"
   ]
  },
  {
   "cell_type": "code",
   "execution_count": 1,
   "metadata": {},
   "outputs": [],
   "source": [
    "def getTokens():\n",
    "    token_arr = []\n",
    "    with open('tokens') as f:\n",
    "        tokens = f.read().strip().split('\\n')\n",
    "        for token in tokens:\n",
    "            consumer_key,consumer_secret,access_token,access_token_secret = token.split('|')\n",
    "            token_arr.append(dict(consumer_key=consumer_key,consumer_secret=consumer_secret,access_token=access_token,access_token_secret=access_token_secret))\n",
    "    \n",
    "    return (token_arr)"
   ]
  },
  {
   "cell_type": "code",
   "execution_count": 42,
   "metadata": {},
   "outputs": [
    {
     "name": "stderr",
     "output_type": "stream",
     "text": [
      " 20%|██        | 2/10 [00:01<00:05,  1.34it/s]Rate limit reached. Sleeping for: 898\n",
      " 20%|██        | 2/10 [00:23<01:35, 11.91s/it]\n"
     ]
    },
    {
     "ename": "KeyboardInterrupt",
     "evalue": "",
     "output_type": "error",
     "traceback": [
      "\u001b[0;31m---------------------------------------------------------------------------\u001b[0m",
      "\u001b[0;31mKeyboardInterrupt\u001b[0m                         Traceback (most recent call last)",
      "\u001b[1;32m/mnt/data0/haskari/TweetCollection/Final_Bot/Post-Collection/post_metrics.ipynb Cell 3'\u001b[0m in \u001b[0;36m<cell line: 11>\u001b[0;34m()\u001b[0m\n\u001b[1;32m      <a href='vscode-notebook-cell://ssh-remote%2Bsohrab.idav.ucdavis.edu/mnt/data0/haskari/TweetCollection/Final_Bot/Post-Collection/post_metrics.ipynb#ch0000012vscode-remote?line=7'>8</a>\u001b[0m users\u001b[39m=\u001b[39musers[\u001b[39m0\u001b[39m:\u001b[39m10\u001b[39m]\n\u001b[1;32m      <a href='vscode-notebook-cell://ssh-remote%2Bsohrab.idav.ucdavis.edu/mnt/data0/haskari/TweetCollection/Final_Bot/Post-Collection/post_metrics.ipynb#ch0000012vscode-remote?line=8'>9</a>\u001b[0m \u001b[39m#res1=returntweets(token_dict,users,count=100)\u001b[39;00m\n\u001b[1;32m     <a href='vscode-notebook-cell://ssh-remote%2Bsohrab.idav.ucdavis.edu/mnt/data0/haskari/TweetCollection/Final_Bot/Post-Collection/post_metrics.ipynb#ch0000012vscode-remote?line=9'>10</a>\u001b[0m \u001b[39m#res2=returnlikes(token_dict,users,count=100)\u001b[39;00m\n\u001b[0;32m---> <a href='vscode-notebook-cell://ssh-remote%2Bsohrab.idav.ucdavis.edu/mnt/data0/haskari/TweetCollection/Final_Bot/Post-Collection/post_metrics.ipynb#ch0000012vscode-remote?line=10'>11</a>\u001b[0m res3\u001b[39m=\u001b[39mfolloweelist(token_dict,users)\n",
      "\u001b[1;32m/mnt/data0/haskari/TweetCollection/Final_Bot/Post-Collection/post_metrics.ipynb Cell 7'\u001b[0m in \u001b[0;36mfolloweelist\u001b[0;34m(token_dict, listofusers)\u001b[0m\n\u001b[1;32m     <a href='vscode-notebook-cell://ssh-remote%2Bsohrab.idav.ucdavis.edu/mnt/data0/haskari/TweetCollection/Final_Bot/Post-Collection/post_metrics.ipynb#ch0000003vscode-remote?line=39'>40</a>\u001b[0m             metalist\u001b[39m.\u001b[39mappend(df)\n\u001b[1;32m     <a href='vscode-notebook-cell://ssh-remote%2Bsohrab.idav.ucdavis.edu/mnt/data0/haskari/TweetCollection/Final_Bot/Post-Collection/post_metrics.ipynb#ch0000003vscode-remote?line=40'>41</a>\u001b[0m     \u001b[39mreturn\u001b[39;00m metalist\n\u001b[0;32m---> <a href='vscode-notebook-cell://ssh-remote%2Bsohrab.idav.ucdavis.edu/mnt/data0/haskari/TweetCollection/Final_Bot/Post-Collection/post_metrics.ipynb#ch0000003vscode-remote?line=41'>42</a>\u001b[0m \u001b[39mreturn\u001b[39;00m getFollowers(token_dict,listofusers)\n",
      "\u001b[1;32m/mnt/data0/haskari/TweetCollection/Final_Bot/Post-Collection/post_metrics.ipynb Cell 7'\u001b[0m in \u001b[0;36mfolloweelist.<locals>.getFollowers\u001b[0;34m(token_dict, listofusers)\u001b[0m\n\u001b[1;32m     <a href='vscode-notebook-cell://ssh-remote%2Bsohrab.idav.ucdavis.edu/mnt/data0/haskari/TweetCollection/Final_Bot/Post-Collection/post_metrics.ipynb#ch0000003vscode-remote?line=26'>27</a>\u001b[0m metalist\u001b[39m=\u001b[39m[]\n\u001b[1;32m     <a href='vscode-notebook-cell://ssh-remote%2Bsohrab.idav.ucdavis.edu/mnt/data0/haskari/TweetCollection/Final_Bot/Post-Collection/post_metrics.ipynb#ch0000003vscode-remote?line=27'>28</a>\u001b[0m \u001b[39mfor\u001b[39;00m user \u001b[39min\u001b[39;00m tqdm(listofusers):\n\u001b[0;32m---> <a href='vscode-notebook-cell://ssh-remote%2Bsohrab.idav.ucdavis.edu/mnt/data0/haskari/TweetCollection/Final_Bot/Post-Collection/post_metrics.ipynb#ch0000003vscode-remote?line=28'>29</a>\u001b[0m     tweets \u001b[39m=\u001b[39m get_tweet_responses(\n\u001b[1;32m     <a href='vscode-notebook-cell://ssh-remote%2Bsohrab.idav.ucdavis.edu/mnt/data0/haskari/TweetCollection/Final_Bot/Post-Collection/post_metrics.ipynb#ch0000003vscode-remote?line=29'>30</a>\u001b[0m         token_dict[\u001b[39m'\u001b[39;49m\u001b[39mconsumer_key\u001b[39;49m\u001b[39m'\u001b[39;49m],\n\u001b[1;32m     <a href='vscode-notebook-cell://ssh-remote%2Bsohrab.idav.ucdavis.edu/mnt/data0/haskari/TweetCollection/Final_Bot/Post-Collection/post_metrics.ipynb#ch0000003vscode-remote?line=30'>31</a>\u001b[0m         token_dict[\u001b[39m'\u001b[39;49m\u001b[39mconsumer_secret\u001b[39;49m\u001b[39m'\u001b[39;49m],\n\u001b[1;32m     <a href='vscode-notebook-cell://ssh-remote%2Bsohrab.idav.ucdavis.edu/mnt/data0/haskari/TweetCollection/Final_Bot/Post-Collection/post_metrics.ipynb#ch0000003vscode-remote?line=31'>32</a>\u001b[0m         token_dict[\u001b[39m'\u001b[39;49m\u001b[39maccess_token\u001b[39;49m\u001b[39m'\u001b[39;49m],\n\u001b[1;32m     <a href='vscode-notebook-cell://ssh-remote%2Bsohrab.idav.ucdavis.edu/mnt/data0/haskari/TweetCollection/Final_Bot/Post-Collection/post_metrics.ipynb#ch0000003vscode-remote?line=32'>33</a>\u001b[0m         token_dict[\u001b[39m'\u001b[39;49m\u001b[39maccess_token_secret\u001b[39;49m\u001b[39m'\u001b[39;49m],\n\u001b[1;32m     <a href='vscode-notebook-cell://ssh-remote%2Bsohrab.idav.ucdavis.edu/mnt/data0/haskari/TweetCollection/Final_Bot/Post-Collection/post_metrics.ipynb#ch0000003vscode-remote?line=33'>34</a>\u001b[0m         user\n\u001b[1;32m     <a href='vscode-notebook-cell://ssh-remote%2Bsohrab.idav.ucdavis.edu/mnt/data0/haskari/TweetCollection/Final_Bot/Post-Collection/post_metrics.ipynb#ch0000003vscode-remote?line=34'>35</a>\u001b[0m     )\n\u001b[1;32m     <a href='vscode-notebook-cell://ssh-remote%2Bsohrab.idav.ucdavis.edu/mnt/data0/haskari/TweetCollection/Final_Bot/Post-Collection/post_metrics.ipynb#ch0000003vscode-remote?line=35'>36</a>\u001b[0m     \u001b[39mif\u001b[39;00m \u001b[39mlen\u001b[39m(tweets)\u001b[39m==\u001b[39m\u001b[39m0\u001b[39m:\n\u001b[1;32m     <a href='vscode-notebook-cell://ssh-remote%2Bsohrab.idav.ucdavis.edu/mnt/data0/haskari/TweetCollection/Final_Bot/Post-Collection/post_metrics.ipynb#ch0000003vscode-remote?line=36'>37</a>\u001b[0m         \u001b[39mcontinue\u001b[39;00m\n",
      "\u001b[1;32m/mnt/data0/haskari/TweetCollection/Final_Bot/Post-Collection/post_metrics.ipynb Cell 7'\u001b[0m in \u001b[0;36mfolloweelist.<locals>.get_tweet_responses\u001b[0;34m(consumer_key, consumer_secret, access_token, access_token_secret, user)\u001b[0m\n\u001b[1;32m      <a href='vscode-notebook-cell://ssh-remote%2Bsohrab.idav.ucdavis.edu/mnt/data0/haskari/TweetCollection/Final_Bot/Post-Collection/post_metrics.ipynb#ch0000003vscode-remote?line=5'>6</a>\u001b[0m tweetsReq \u001b[39m=\u001b[39m []\n\u001b[1;32m      <a href='vscode-notebook-cell://ssh-remote%2Bsohrab.idav.ucdavis.edu/mnt/data0/haskari/TweetCollection/Final_Bot/Post-Collection/post_metrics.ipynb#ch0000003vscode-remote?line=6'>7</a>\u001b[0m \u001b[39mtry\u001b[39;00m:\n\u001b[0;32m----> <a href='vscode-notebook-cell://ssh-remote%2Bsohrab.idav.ucdavis.edu/mnt/data0/haskari/TweetCollection/Final_Bot/Post-Collection/post_metrics.ipynb#ch0000003vscode-remote?line=7'>8</a>\u001b[0m     \u001b[39mfor\u001b[39;00m page \u001b[39min\u001b[39;00m tw\u001b[39m.\u001b[39mCursor(api\u001b[39m.\u001b[39mget_friend_ids,user_id\u001b[39m=\u001b[39muser,count\u001b[39m=\u001b[39m\u001b[39m200\u001b[39m)\u001b[39m.\u001b[39mpages():\n\u001b[1;32m      <a href='vscode-notebook-cell://ssh-remote%2Bsohrab.idav.ucdavis.edu/mnt/data0/haskari/TweetCollection/Final_Bot/Post-Collection/post_metrics.ipynb#ch0000003vscode-remote?line=8'>9</a>\u001b[0m         tweetsReq\u001b[39m.\u001b[39mextend(page)\n\u001b[1;32m     <a href='vscode-notebook-cell://ssh-remote%2Bsohrab.idav.ucdavis.edu/mnt/data0/haskari/TweetCollection/Final_Bot/Post-Collection/post_metrics.ipynb#ch0000003vscode-remote?line=11'>12</a>\u001b[0m     tweets \u001b[39m=\u001b[39m []\n",
      "File \u001b[0;32m~/.conda/envs/Twitter/lib/python3.9/site-packages/tweepy/cursor.py:86\u001b[0m, in \u001b[0;36mBaseIterator.__next__\u001b[0;34m(self)\u001b[0m\n\u001b[1;32m     <a href='file:///home/haskari/.conda/envs/Twitter/lib/python3.9/site-packages/tweepy/cursor.py?line=84'>85</a>\u001b[0m \u001b[39mdef\u001b[39;00m \u001b[39m__next__\u001b[39m(\u001b[39mself\u001b[39m):\n\u001b[0;32m---> <a href='file:///home/haskari/.conda/envs/Twitter/lib/python3.9/site-packages/tweepy/cursor.py?line=85'>86</a>\u001b[0m     \u001b[39mreturn\u001b[39;00m \u001b[39mself\u001b[39;49m\u001b[39m.\u001b[39;49mnext()\n",
      "File \u001b[0;32m~/.conda/envs/Twitter/lib/python3.9/site-packages/tweepy/cursor.py:110\u001b[0m, in \u001b[0;36mCursorIterator.next\u001b[0;34m(self)\u001b[0m\n\u001b[1;32m    <a href='file:///home/haskari/.conda/envs/Twitter/lib/python3.9/site-packages/tweepy/cursor.py?line=107'>108</a>\u001b[0m \u001b[39mif\u001b[39;00m \u001b[39mself\u001b[39m\u001b[39m.\u001b[39mnext_cursor \u001b[39m==\u001b[39m \u001b[39m0\u001b[39m \u001b[39mor\u001b[39;00m \u001b[39mself\u001b[39m\u001b[39m.\u001b[39mnum_tweets \u001b[39m>\u001b[39m\u001b[39m=\u001b[39m \u001b[39mself\u001b[39m\u001b[39m.\u001b[39mlimit:\n\u001b[1;32m    <a href='file:///home/haskari/.conda/envs/Twitter/lib/python3.9/site-packages/tweepy/cursor.py?line=108'>109</a>\u001b[0m     \u001b[39mraise\u001b[39;00m \u001b[39mStopIteration\u001b[39;00m\n\u001b[0;32m--> <a href='file:///home/haskari/.conda/envs/Twitter/lib/python3.9/site-packages/tweepy/cursor.py?line=109'>110</a>\u001b[0m data, cursors \u001b[39m=\u001b[39m \u001b[39mself\u001b[39;49m\u001b[39m.\u001b[39;49mmethod(cursor\u001b[39m=\u001b[39;49m\u001b[39mself\u001b[39;49m\u001b[39m.\u001b[39;49mnext_cursor,\n\u001b[1;32m    <a href='file:///home/haskari/.conda/envs/Twitter/lib/python3.9/site-packages/tweepy/cursor.py?line=110'>111</a>\u001b[0m                             \u001b[39m*\u001b[39;49m\u001b[39mself\u001b[39;49m\u001b[39m.\u001b[39;49margs,\n\u001b[1;32m    <a href='file:///home/haskari/.conda/envs/Twitter/lib/python3.9/site-packages/tweepy/cursor.py?line=111'>112</a>\u001b[0m                             \u001b[39m*\u001b[39;49m\u001b[39m*\u001b[39;49m\u001b[39mself\u001b[39;49m\u001b[39m.\u001b[39;49mkwargs)\n\u001b[1;32m    <a href='file:///home/haskari/.conda/envs/Twitter/lib/python3.9/site-packages/tweepy/cursor.py?line=112'>113</a>\u001b[0m \u001b[39mself\u001b[39m\u001b[39m.\u001b[39mprev_cursor, \u001b[39mself\u001b[39m\u001b[39m.\u001b[39mnext_cursor \u001b[39m=\u001b[39m cursors\n\u001b[1;32m    <a href='file:///home/haskari/.conda/envs/Twitter/lib/python3.9/site-packages/tweepy/cursor.py?line=113'>114</a>\u001b[0m \u001b[39mif\u001b[39;00m \u001b[39mlen\u001b[39m(data) \u001b[39m==\u001b[39m \u001b[39m0\u001b[39m:\n",
      "File \u001b[0;32m~/.conda/envs/Twitter/lib/python3.9/site-packages/tweepy/api.py:33\u001b[0m, in \u001b[0;36mpagination.<locals>.decorator.<locals>.wrapper\u001b[0;34m(*args, **kwargs)\u001b[0m\n\u001b[1;32m     <a href='file:///home/haskari/.conda/envs/Twitter/lib/python3.9/site-packages/tweepy/api.py?line=30'>31</a>\u001b[0m \u001b[39m@functools\u001b[39m\u001b[39m.\u001b[39mwraps(method)\n\u001b[1;32m     <a href='file:///home/haskari/.conda/envs/Twitter/lib/python3.9/site-packages/tweepy/api.py?line=31'>32</a>\u001b[0m \u001b[39mdef\u001b[39;00m \u001b[39mwrapper\u001b[39m(\u001b[39m*\u001b[39margs, \u001b[39m*\u001b[39m\u001b[39m*\u001b[39mkwargs):\n\u001b[0;32m---> <a href='file:///home/haskari/.conda/envs/Twitter/lib/python3.9/site-packages/tweepy/api.py?line=32'>33</a>\u001b[0m     \u001b[39mreturn\u001b[39;00m method(\u001b[39m*\u001b[39;49margs, \u001b[39m*\u001b[39;49m\u001b[39m*\u001b[39;49mkwargs)\n",
      "File \u001b[0;32m~/.conda/envs/Twitter/lib/python3.9/site-packages/tweepy/api.py:46\u001b[0m, in \u001b[0;36mpayload.<locals>.decorator.<locals>.wrapper\u001b[0;34m(*args, **kwargs)\u001b[0m\n\u001b[1;32m     <a href='file:///home/haskari/.conda/envs/Twitter/lib/python3.9/site-packages/tweepy/api.py?line=43'>44</a>\u001b[0m kwargs[\u001b[39m'\u001b[39m\u001b[39mpayload_list\u001b[39m\u001b[39m'\u001b[39m] \u001b[39m=\u001b[39m payload_list\n\u001b[1;32m     <a href='file:///home/haskari/.conda/envs/Twitter/lib/python3.9/site-packages/tweepy/api.py?line=44'>45</a>\u001b[0m kwargs[\u001b[39m'\u001b[39m\u001b[39mpayload_type\u001b[39m\u001b[39m'\u001b[39m] \u001b[39m=\u001b[39m payload_type\n\u001b[0;32m---> <a href='file:///home/haskari/.conda/envs/Twitter/lib/python3.9/site-packages/tweepy/api.py?line=45'>46</a>\u001b[0m \u001b[39mreturn\u001b[39;00m method(\u001b[39m*\u001b[39;49margs, \u001b[39m*\u001b[39;49m\u001b[39m*\u001b[39;49mkwargs)\n",
      "File \u001b[0;32m~/.conda/envs/Twitter/lib/python3.9/site-packages/tweepy/api.py:2131\u001b[0m, in \u001b[0;36mAPI.get_friend_ids\u001b[0;34m(self, **kwargs)\u001b[0m\n\u001b[1;32m   <a href='file:///home/haskari/.conda/envs/Twitter/lib/python3.9/site-packages/tweepy/api.py?line=2100'>2101</a>\u001b[0m \u001b[39m@pagination\u001b[39m(mode\u001b[39m=\u001b[39m\u001b[39m'\u001b[39m\u001b[39mcursor\u001b[39m\u001b[39m'\u001b[39m)\n\u001b[1;32m   <a href='file:///home/haskari/.conda/envs/Twitter/lib/python3.9/site-packages/tweepy/api.py?line=2101'>2102</a>\u001b[0m \u001b[39m@payload\u001b[39m(\u001b[39m'\u001b[39m\u001b[39mids\u001b[39m\u001b[39m'\u001b[39m)\n\u001b[1;32m   <a href='file:///home/haskari/.conda/envs/Twitter/lib/python3.9/site-packages/tweepy/api.py?line=2102'>2103</a>\u001b[0m \u001b[39mdef\u001b[39;00m \u001b[39mget_friend_ids\u001b[39m(\u001b[39mself\u001b[39m, \u001b[39m*\u001b[39m\u001b[39m*\u001b[39mkwargs):\n\u001b[1;32m   <a href='file:///home/haskari/.conda/envs/Twitter/lib/python3.9/site-packages/tweepy/api.py?line=2103'>2104</a>\u001b[0m     \u001b[39m\"\"\"get_friend_ids(*, user_id, screen_name, cursor, stringify_ids, \\\u001b[39;00m\n\u001b[1;32m   <a href='file:///home/haskari/.conda/envs/Twitter/lib/python3.9/site-packages/tweepy/api.py?line=2104'>2105</a>\u001b[0m \u001b[39m                      count)\u001b[39;00m\n\u001b[1;32m   <a href='file:///home/haskari/.conda/envs/Twitter/lib/python3.9/site-packages/tweepy/api.py?line=2105'>2106</a>\u001b[0m \n\u001b[0;32m   (...)\u001b[0m\n\u001b[1;32m   <a href='file:///home/haskari/.conda/envs/Twitter/lib/python3.9/site-packages/tweepy/api.py?line=2128'>2129</a>\u001b[0m \u001b[39m    https://developer.twitter.com/en/docs/twitter-api/v1/accounts-and-users/follow-search-get-users/api-reference/get-friends-ids\u001b[39;00m\n\u001b[1;32m   <a href='file:///home/haskari/.conda/envs/Twitter/lib/python3.9/site-packages/tweepy/api.py?line=2129'>2130</a>\u001b[0m \u001b[39m    \"\"\"\u001b[39;00m\n\u001b[0;32m-> <a href='file:///home/haskari/.conda/envs/Twitter/lib/python3.9/site-packages/tweepy/api.py?line=2130'>2131</a>\u001b[0m     \u001b[39mreturn\u001b[39;00m \u001b[39mself\u001b[39;49m\u001b[39m.\u001b[39;49mrequest(\n\u001b[1;32m   <a href='file:///home/haskari/.conda/envs/Twitter/lib/python3.9/site-packages/tweepy/api.py?line=2131'>2132</a>\u001b[0m         \u001b[39m'\u001b[39;49m\u001b[39mGET\u001b[39;49m\u001b[39m'\u001b[39;49m, \u001b[39m'\u001b[39;49m\u001b[39mfriends/ids\u001b[39;49m\u001b[39m'\u001b[39;49m, endpoint_parameters\u001b[39m=\u001b[39;49m(\n\u001b[1;32m   <a href='file:///home/haskari/.conda/envs/Twitter/lib/python3.9/site-packages/tweepy/api.py?line=2132'>2133</a>\u001b[0m             \u001b[39m'\u001b[39;49m\u001b[39muser_id\u001b[39;49m\u001b[39m'\u001b[39;49m, \u001b[39m'\u001b[39;49m\u001b[39mscreen_name\u001b[39;49m\u001b[39m'\u001b[39;49m, \u001b[39m'\u001b[39;49m\u001b[39mcursor\u001b[39;49m\u001b[39m'\u001b[39;49m, \u001b[39m'\u001b[39;49m\u001b[39mstringify_ids\u001b[39;49m\u001b[39m'\u001b[39;49m, \u001b[39m'\u001b[39;49m\u001b[39mcount\u001b[39;49m\u001b[39m'\u001b[39;49m\n\u001b[1;32m   <a href='file:///home/haskari/.conda/envs/Twitter/lib/python3.9/site-packages/tweepy/api.py?line=2133'>2134</a>\u001b[0m         ), \u001b[39m*\u001b[39;49m\u001b[39m*\u001b[39;49mkwargs\n\u001b[1;32m   <a href='file:///home/haskari/.conda/envs/Twitter/lib/python3.9/site-packages/tweepy/api.py?line=2134'>2135</a>\u001b[0m     )\n",
      "File \u001b[0;32m~/.conda/envs/Twitter/lib/python3.9/site-packages/tweepy/api.py:207\u001b[0m, in \u001b[0;36mAPI.request\u001b[0;34m(self, method, endpoint, endpoint_parameters, params, headers, json_payload, parser, payload_list, payload_type, post_data, files, require_auth, return_cursors, upload_api, use_cache, **kwargs)\u001b[0m\n\u001b[1;32m    <a href='file:///home/haskari/.conda/envs/Twitter/lib/python3.9/site-packages/tweepy/api.py?line=204'>205</a>\u001b[0m     \u001b[39mif\u001b[39;00m sleep_time \u001b[39m>\u001b[39m \u001b[39m0\u001b[39m:\n\u001b[1;32m    <a href='file:///home/haskari/.conda/envs/Twitter/lib/python3.9/site-packages/tweepy/api.py?line=205'>206</a>\u001b[0m         log\u001b[39m.\u001b[39mwarning(\u001b[39mf\u001b[39m\u001b[39m\"\u001b[39m\u001b[39mRate limit reached. Sleeping for: \u001b[39m\u001b[39m{\u001b[39;00msleep_time\u001b[39m}\u001b[39;00m\u001b[39m\"\u001b[39m)\n\u001b[0;32m--> <a href='file:///home/haskari/.conda/envs/Twitter/lib/python3.9/site-packages/tweepy/api.py?line=206'>207</a>\u001b[0m         time\u001b[39m.\u001b[39;49msleep(sleep_time \u001b[39m+\u001b[39;49m \u001b[39m1\u001b[39;49m)  \u001b[39m# Sleep for extra sec\u001b[39;00m\n\u001b[1;32m    <a href='file:///home/haskari/.conda/envs/Twitter/lib/python3.9/site-packages/tweepy/api.py?line=208'>209</a>\u001b[0m \u001b[39m# Apply authentication\u001b[39;00m\n\u001b[1;32m    <a href='file:///home/haskari/.conda/envs/Twitter/lib/python3.9/site-packages/tweepy/api.py?line=209'>210</a>\u001b[0m auth \u001b[39m=\u001b[39m \u001b[39mNone\u001b[39;00m\n",
      "\u001b[0;31mKeyboardInterrupt\u001b[0m: "
     ]
    }
   ],
   "source": [
    "#testing functions\n",
    "temp=getTokens()\n",
    "token_dict=temp[3]\n",
    "usersdf=pd.read_csv(\"Userlist.csv\")\n",
    "users=usersdf['0'].to_list()\n",
    "for i in range(len(users)):\n",
    "    users[i]=users[i].split('.')[0]\n",
    "users=users[0:10]\n",
    "#res1=returntweets(token_dict,users,count=100)\n",
    "#res2=returnlikes(token_dict,users,count=100)\n",
    "#res3=followeelist(token_dict,users)\n"
   ]
  },
  {
   "cell_type": "code",
   "execution_count": 44,
   "metadata": {},
   "outputs": [
    {
     "ename": "IndexError",
     "evalue": "list index out of range",
     "output_type": "error",
     "traceback": [
      "\u001b[0;31m---------------------------------------------------------------------------\u001b[0m",
      "\u001b[0;31mIndexError\u001b[0m                                Traceback (most recent call last)",
      "\u001b[1;32m/mnt/data0/haskari/TweetCollection/Final_Bot/Post-Collection/post_metrics.ipynb Cell 4'\u001b[0m in \u001b[0;36m<cell line: 1>\u001b[0;34m()\u001b[0m\n\u001b[0;32m----> <a href='vscode-notebook-cell://ssh-remote%2Bsohrab.idav.ucdavis.edu/mnt/data0/haskari/TweetCollection/Final_Bot/Post-Collection/post_metrics.ipynb#ch0000013vscode-remote?line=0'>1</a>\u001b[0m \u001b[39mprint\u001b[39m(res3[\u001b[39m1\u001b[39;49m])\n",
      "\u001b[0;31mIndexError\u001b[0m: list index out of range"
     ]
    }
   ],
   "source": [
    "print(res3[1])"
   ]
  },
  {
   "cell_type": "code",
   "execution_count": 16,
   "metadata": {},
   "outputs": [],
   "source": [
    "def returntweets(token_dict, userid, count):\n",
    "\n",
    "    def get_tweet_responses(consumer_key, consumer_secret, access_token, access_token_secret, user, num_tweets):\n",
    "\n",
    "        auth = tw.OAuthHandler(consumer_key, consumer_secret)\n",
    "        auth.set_access_token(access_token, access_token_secret)\n",
    "        api = tw.API(auth, wait_on_rate_limit=True)\n",
    "\n",
    "        #add sinceid here\n",
    "        #open database, get sinceid as the max of the previous collected TwitterIDs and add as a parameter\n",
    "        \n",
    "       \n",
    "        tweetsReq = tw.Cursor(api.user_timeline,\n",
    "            user_id=user, count=num_tweets,\n",
    "            exclude_replies=False, include_rts=True,\n",
    "            tweet_mode='extended').items(num_tweets)\n",
    "        tweets = []\n",
    "        try:\n",
    "            for tweet in tweetsReq:\n",
    "                try:\n",
    "                    full_text=tweet.retweeted_status.full_text\n",
    "                except AttributeError:  # Not a Retweet\n",
    "                    full_text=tweet.full_text\n",
    "                tweets.append(dict(\n",
    "                        full_text = full_text,\n",
    "                        tweet_id=tweet.id_str,\n",
    "                        screen_name=tweet.user.screen_name,\n",
    "                        user_ID=user\n",
    "                    ))\n",
    "        except Exception as e:\n",
    "            print(e)\n",
    "\n",
    "        return tweets\n",
    "\n",
    "    def getTweets(token_dict, userid, count):\n",
    "        metalist=[]\n",
    "        for user in tqdm(userid):\n",
    "\n",
    "            \n",
    "\n",
    "            tweets = get_tweet_responses(\n",
    "                token_dict['consumer_key'],\n",
    "                token_dict['consumer_secret'],\n",
    "                token_dict['access_token'],\n",
    "                token_dict['access_token_secret'],\n",
    "                user, num_tweets=count\n",
    "            )\n",
    "\n",
    "            if len(tweets)==0:\n",
    "                continue\n",
    "            else:\n",
    "                df = pd.DataFrame(tweets)\n",
    "                metalist.append(df)\n",
    "        return metalist\n",
    "\n",
    "    return getTweets(token_dict,userid, count)\n"
   ]
  },
  {
   "cell_type": "code",
   "execution_count": 23,
   "metadata": {},
   "outputs": [],
   "source": [
    "def returnlikes(token_dict, userid, count):\n",
    "    def get_tweet_responses(consumer_key, consumer_secret, access_token, access_token_secret, user, num_tweets):\n",
    "        auth = tw.OAuthHandler(consumer_key, consumer_secret)\n",
    "        auth.set_access_token(access_token, access_token_secret)\n",
    "        api = tw.API(auth, wait_on_rate_limit=True)\n",
    "        tweetsReq = tw.Cursor(api.get_favorites,\n",
    "                user_id=user, count=num_tweets,\n",
    "                tweet_mode='extended').items(num_tweets)\n",
    "        tweets = []\n",
    "        try:\n",
    "            for tweet in tweetsReq:\n",
    "                tweets.append(dict(\n",
    "                        full_text = tweet.full_text,\n",
    "                        tweet_id=tweet.id_str,\n",
    "                        screen_name=tweet.user.screen_name,\n",
    "                        Tweet_user_ID=tweet.user.id_str,\n",
    "                        original_user_ID=user\n",
    "                    ))\n",
    "        except Exception as e:\n",
    "            print(e)\n",
    "\n",
    "\n",
    "        return tweets\n",
    "\n",
    "    def getLikes(token_dict, listofusers,count):\n",
    "        metalist=[]\n",
    "        for user in tqdm(listofusers):\n",
    "            tweets = get_tweet_responses(\n",
    "                token_dict['consumer_key'],\n",
    "                token_dict['consumer_secret'],\n",
    "                token_dict['access_token'],\n",
    "                token_dict['access_token_secret'],\n",
    "                user, num_tweets=count\n",
    "            )\n",
    "            if len(tweets)==0:\n",
    "                continue\n",
    "            else:\n",
    "                df = pd.DataFrame(tweets)\n",
    "                metalist.append(df)\n",
    "        return metalist\n",
    "    return getLikes(token_dict,userid, count)"
   ]
  },
  {
   "cell_type": "code",
   "execution_count": 38,
   "metadata": {},
   "outputs": [],
   "source": [
    "def followeelist(token_dict,listofusers):\n",
    "    def get_tweet_responses(consumer_key, consumer_secret, access_token, access_token_secret, user):\n",
    "        auth = tw.OAuthHandler(consumer_key, consumer_secret)\n",
    "        auth.set_access_token(access_token, access_token_secret)\n",
    "        api = tw.API(auth, wait_on_rate_limit=True)\n",
    "        tweetsReq = []\n",
    "        try:\n",
    "            for page in tw.Cursor(api.get_friend_ids,user_id=user,count=200).pages():\n",
    "                tweetsReq.extend(page)\n",
    "\n",
    "\n",
    "            tweets = []\n",
    "        \n",
    "\n",
    "\n",
    "            tweets.append(dict(\n",
    "                Followers = tweetsReq,\n",
    "                user_ID=user\n",
    "            ))\n",
    "        except Exception as e:\n",
    "            print(e)\n",
    "\n",
    "\n",
    "        return tweets\n",
    "\n",
    "    def getFollowers(token_dict, listofusers):\n",
    "        metalist=[]\n",
    "        for user in tqdm(listofusers):\n",
    "            tweets = get_tweet_responses(\n",
    "                token_dict['consumer_key'],\n",
    "                token_dict['consumer_secret'],\n",
    "                token_dict['access_token'],\n",
    "                token_dict['access_token_secret'],\n",
    "                user\n",
    "            )\n",
    "            if len(tweets)==0:\n",
    "                continue\n",
    "            else:\n",
    "                df = pd.DataFrame(tweets)\n",
    "                metalist.append(df)\n",
    "        return metalist\n",
    "    return getFollowers(token_dict,listofusers)"
   ]
  },
  {
   "cell_type": "code",
   "execution_count": null,
   "metadata": {},
   "outputs": [],
   "source": [
    "def replytobot(token_dict,tweetid,botusername):\n",
    "    now = datetime.now()\n",
    "    DATE = now.strftime(\"%Y-%m-%d\")\n",
    "\n",
    "    def get_tweet_responses(consumer_key, consumer_secret, access_token, access_token_secret, tweetid, num_tweets, date, botusername):\n",
    "        auth = tw.OAuthHandler(consumer_key, consumer_secret)\n",
    "        auth.set_access_token(access_token, access_token_secret)\n",
    "        api = tw.API(auth, wait_on_rate_limit=True)\n",
    "\n",
    "        name = botusername\n",
    "        tweet_id=tweetid\n",
    "\n",
    "        tweetsReq = tw.Cursor(api.search_tweets,\n",
    "                q='to: '+name + \" -filter:retweets\",\n",
    "                lang=\"en\", until=date,\n",
    "                result_type='recent', tweet_mode='extended').items(num_tweets)\n",
    "\n",
    "        tweets = []\n",
    "        for tweet in tweetsReq:\n",
    "            if hasattr(tweet, 'in_reply_to_status_id_str') == False:\n",
    "                continue\n",
    "            if (tweet.in_reply_to_status_id_str==tweet_id):\n",
    "                tweets.append(dict(\n",
    "                    full_text = tweet.full_text,\n",
    "                    BotTweetID=tweet_id,\n",
    "                    tweet_id=tweet.id_str,\n",
    "                    screen_name=tweet.user.screen_name,\n",
    "                    user_id=tweet.user.id_str\n",
    "                    ))\n",
    "\n",
    "        return tweets\n",
    "\n",
    "    def getTweets(token_dict, tweetid, botusername):\n",
    "        for tweet in tqdm(tweetid):\n",
    "            tweets = get_tweet_responses(\n",
    "                token_dict['consumer_key'],\n",
    "                token_dict['consumer_secret'],\n",
    "                token_dict['access_token'],\n",
    "                token_dict['access_token_secret'],\n",
    "                tweetid=tweet, num_tweets=20000, date=DATE, botusername=botusername\n",
    "            )\n",
    "            if len(tweets)==0:\n",
    "                continue\n",
    "            else:\n",
    "                df = pd.DataFrame(tweets)\n",
    "                return df\n",
    "    return getTweets(token_dict, tweetid, botusername)"
   ]
  },
  {
   "cell_type": "code",
   "execution_count": null,
   "metadata": {},
   "outputs": [],
   "source": [
    "def likeofreply():"
   ]
  },
  {
   "cell_type": "code",
   "execution_count": null,
   "metadata": {},
   "outputs": [],
   "source": [
    "def linkclick():"
   ]
  }
 ],
 "metadata": {
  "interpreter": {
   "hash": "c108efe8a0f90e2e56e0f9b96d26bacd2fba1e2bf832d748f50731922fabbb6a"
  },
  "kernelspec": {
   "display_name": "Python 3.9.13 ('Twitter')",
   "language": "python",
   "name": "python3"
  },
  "language_info": {
   "codemirror_mode": {
    "name": "ipython",
    "version": 3
   },
   "file_extension": ".py",
   "mimetype": "text/x-python",
   "name": "python",
   "nbconvert_exporter": "python",
   "pygments_lexer": "ipython3",
   "version": "3.9.13"
  },
  "orig_nbformat": 4
 },
 "nbformat": 4,
 "nbformat_minor": 2
}
